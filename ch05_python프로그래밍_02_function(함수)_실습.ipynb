{
  "nbformat": 4,
  "nbformat_minor": 0,
  "metadata": {
    "colab": {
      "name": "ch05_python프로그래밍_02_function(함수)_실습.ipynb",
      "provenance": [],
      "collapsed_sections": [],
      "include_colab_link": true
    },
    "kernelspec": {
      "name": "python3",
      "display_name": "Python 3"
    }
  },
  "cells": [
    {
      "cell_type": "markdown",
      "metadata": {
        "id": "view-in-github",
        "colab_type": "text"
      },
      "source": [
        "<a href=\"https://colab.research.google.com/github/KIM-CHAEYOUNG/BASIC_PYTHON/blob/master/ch05_python%ED%94%84%EB%A1%9C%EA%B7%B8%EB%9E%98%EB%B0%8D_02_function(%ED%95%A8%EC%88%98)_%EC%8B%A4%EC%8A%B5.ipynb\" target=\"_parent\"><img src=\"https://colab.research.google.com/assets/colab-badge.svg\" alt=\"Open In Colab\"/></a>"
      ]
    },
    {
      "cell_type": "markdown",
      "metadata": {
        "id": "vOM7e6zujAZw",
        "colab_type": "text"
      },
      "source": [
        "## 1. 함수란 무엇일까요?"
      ]
    },
    {
      "cell_type": "markdown",
      "metadata": {
        "id": "ELm3GwkojNgP",
        "colab_type": "text"
      },
      "source": [
        "반복적으로 사용되는 부분을 묶어서, **재사용 가능**하도록 만들어 주는 것"
      ]
    },
    {
      "cell_type": "markdown",
      "metadata": {
        "id": "5-aIf-uqp4pQ",
        "colab_type": "text"
      },
      "source": [
        "함수에는 **들어가는 놈 (input)**이 있고, **나오는 놈 (output 혹은 return)**이 있습니다. 정해진 로직(규칙)에 따라, input -> output으로 효율적으로 바꿔주는 역할을 합니다"
      ]
    },
    {
      "cell_type": "markdown",
      "metadata": {
        "id": "8bwTDOOZjcu1",
        "colab_type": "text"
      },
      "source": [
        "**[예시]**"
      ]
    },
    {
      "cell_type": "code",
      "metadata": {
        "id": "HSBZ_AJCqPh9",
        "colab_type": "code",
        "colab": {}
      },
      "source": [
        "a = 1\n",
        "b = 2\n",
        "c = 3"
      ],
      "execution_count": 2,
      "outputs": []
    },
    {
      "cell_type": "code",
      "metadata": {
        "id": "CrMppqW-jgtg",
        "colab_type": "code",
        "colab": {
          "base_uri": "https://localhost:8080/",
          "height": 34
        },
        "outputId": "3a806ea0-e876-4e68-ab87-0f4eed72bf5c"
      },
      "source": [
        "# 코드를 입력해 주세요\n",
        "(a+b)*c"
      ],
      "execution_count": 3,
      "outputs": [
        {
          "output_type": "execute_result",
          "data": {
            "text/plain": [
              "9"
            ]
          },
          "metadata": {
            "tags": []
          },
          "execution_count": 3
        }
      ]
    },
    {
      "cell_type": "code",
      "metadata": {
        "id": "nnLWr0yGqO_P",
        "colab_type": "code",
        "colab": {}
      },
      "source": [
        "a = 2\n",
        "b = 2\n",
        "c = 3"
      ],
      "execution_count": null,
      "outputs": []
    },
    {
      "cell_type": "code",
      "metadata": {
        "id": "27xwwujGqeR2",
        "colab_type": "code",
        "colab": {
          "base_uri": "https://localhost:8080/",
          "height": 34
        },
        "outputId": "6fb38117-639f-4786-bb80-d9727b685a86"
      },
      "source": [
        "# 코드를 입력해 주세요\n",
        "(a+b)*c"
      ],
      "execution_count": 4,
      "outputs": [
        {
          "output_type": "execute_result",
          "data": {
            "text/plain": [
              "9"
            ]
          },
          "metadata": {
            "tags": []
          },
          "execution_count": 4
        }
      ]
    },
    {
      "cell_type": "code",
      "metadata": {
        "id": "eus2Sc3FqfJJ",
        "colab_type": "code",
        "colab": {}
      },
      "source": [
        "a = 3\n",
        "b = 2\n",
        "c = 3"
      ],
      "execution_count": 5,
      "outputs": []
    },
    {
      "cell_type": "code",
      "metadata": {
        "id": "zv6CIbiuqgy-",
        "colab_type": "code",
        "colab": {
          "base_uri": "https://localhost:8080/",
          "height": 34
        },
        "outputId": "fd8a073f-9f21-4803-e234-33e40ddd278c"
      },
      "source": [
        "# 코드를 입력해 주세요\n",
        "(a+b)*c"
      ],
      "execution_count": 6,
      "outputs": [
        {
          "output_type": "execute_result",
          "data": {
            "text/plain": [
              "15"
            ]
          },
          "metadata": {
            "tags": []
          },
          "execution_count": 6
        }
      ]
    },
    {
      "cell_type": "markdown",
      "metadata": {
        "id": "k3ZRnMTRqhJX",
        "colab_type": "text"
      },
      "source": [
        "**[함수로 변경 후]**"
      ]
    },
    {
      "cell_type": "code",
      "metadata": {
        "id": "MubDprG4qlAm",
        "colab_type": "code",
        "colab": {}
      },
      "source": [
        "def func(a, b, c):\n",
        "    return (a + b) * c"
      ],
      "execution_count": 9,
      "outputs": []
    },
    {
      "cell_type": "code",
      "metadata": {
        "id": "DtLSycwwqsF2",
        "colab_type": "code",
        "colab": {
          "base_uri": "https://localhost:8080/",
          "height": 34
        },
        "outputId": "e1fe25b6-5724-47d1-aabd-df09ca886d25"
      },
      "source": [
        "# 코드를 입력해 주세요\n",
        "func(1,2,3)"
      ],
      "execution_count": 13,
      "outputs": [
        {
          "output_type": "execute_result",
          "data": {
            "text/plain": [
              "9"
            ]
          },
          "metadata": {
            "tags": []
          },
          "execution_count": 13
        }
      ]
    },
    {
      "cell_type": "code",
      "metadata": {
        "id": "P3_9SXxdqt7P",
        "colab_type": "code",
        "colab": {
          "base_uri": "https://localhost:8080/",
          "height": 34
        },
        "outputId": "189c72df-54a8-4faa-95f6-49eadbba8049"
      },
      "source": [
        "# 코드를 입력해 주세요\n",
        "func(2,2,3)"
      ],
      "execution_count": 14,
      "outputs": [
        {
          "output_type": "execute_result",
          "data": {
            "text/plain": [
              "12"
            ]
          },
          "metadata": {
            "tags": []
          },
          "execution_count": 14
        }
      ]
    },
    {
      "cell_type": "code",
      "metadata": {
        "id": "ybJx3_SmqwJt",
        "colab_type": "code",
        "colab": {
          "base_uri": "https://localhost:8080/",
          "height": 34
        },
        "outputId": "88c8b179-0eb9-4921-a77a-92e2ed8397d9"
      },
      "source": [
        "# 코드를 입력해 주세요\n",
        "func(3,2,3)"
      ],
      "execution_count": 15,
      "outputs": [
        {
          "output_type": "execute_result",
          "data": {
            "text/plain": [
              "15"
            ]
          },
          "metadata": {
            "tags": []
          },
          "execution_count": 15
        }
      ]
    },
    {
      "cell_type": "markdown",
      "metadata": {
        "id": "V-RaMsPUq08R",
        "colab_type": "text"
      },
      "source": [
        "## 2. def는 함수를 위한 정의 (define)"
      ]
    },
    {
      "cell_type": "markdown",
      "metadata": {
        "id": "ZOX4YXLJq4sn",
        "colab_type": "text"
      },
      "source": [
        "def **함수이름** (parameter1, parameter2, parameter...)**:**"
      ]
    },
    {
      "cell_type": "markdown",
      "metadata": {
        "id": "ADFgrlUZsrJv",
        "colab_type": "text"
      },
      "source": [
        "parameter는 함수로 부터 **넘겨 받은 변수 또는 값** 입니다."
      ]
    },
    {
      "cell_type": "markdown",
      "metadata": {
        "id": "qm3XAEVWrRSu",
        "colab_type": "text"
      },
      "source": [
        "끝에 콜론 (:) 빼먹지 않음에 주의 하세요!!"
      ]
    },
    {
      "cell_type": "code",
      "metadata": {
        "id": "6Wih3mlYrAx7",
        "colab_type": "code",
        "colab": {}
      },
      "source": [
        "def my_func(var1):\n",
        "    print(var1)"
      ],
      "execution_count": 16,
      "outputs": []
    },
    {
      "cell_type": "code",
      "metadata": {
        "id": "9Ez-rHvmrNDy",
        "colab_type": "code",
        "colab": {
          "base_uri": "https://localhost:8080/",
          "height": 34
        },
        "outputId": "8ea7a585-2843-4de8-dd33-dde1ea6de165"
      },
      "source": [
        "# 코드를 입력해 주세요\n",
        "my_func('테디입니다! 반갑습니다')"
      ],
      "execution_count": 17,
      "outputs": [
        {
          "output_type": "stream",
          "text": [
            "테디입니다! 반갑습니다\n"
          ],
          "name": "stdout"
        }
      ]
    },
    {
      "cell_type": "markdown",
      "metadata": {
        "id": "vaOp0PuOrewg",
        "colab_type": "text"
      },
      "source": [
        "1. my_func 함수 실행\n",
        "2. var1에 '테디입니다. 반갑습니다' 대입\n",
        "3. print(var1) 실행"
      ]
    },
    {
      "cell_type": "markdown",
      "metadata": {
        "id": "3RZu9VLnr097",
        "colab_type": "text"
      },
      "source": [
        "## 3. 함수는 값을 리턴할 수 있고, 안해도 됩니다"
      ]
    },
    {
      "cell_type": "markdown",
      "metadata": {
        "id": "CnBFkfx-r_xf",
        "colab_type": "text"
      },
      "source": [
        "리턴이 없는 경우"
      ]
    },
    {
      "cell_type": "code",
      "metadata": {
        "id": "ztv_j8mMr6AN",
        "colab_type": "code",
        "colab": {}
      },
      "source": [
        "def my_func(a, b):\n",
        "    print(a, b)"
      ],
      "execution_count": 18,
      "outputs": []
    },
    {
      "cell_type": "code",
      "metadata": {
        "id": "T-ClmPeusJna",
        "colab_type": "code",
        "colab": {
          "base_uri": "https://localhost:8080/",
          "height": 34
        },
        "outputId": "bfb79df5-a4aa-4448-8480-0bff57cf47be"
      },
      "source": [
        "# 코드를 입력해 주세요\n",
        "my_func(1,10)"
      ],
      "execution_count": 19,
      "outputs": [
        {
          "output_type": "stream",
          "text": [
            "1 10\n"
          ],
          "name": "stdout"
        }
      ]
    },
    {
      "cell_type": "markdown",
      "metadata": {
        "id": "WaCzCpFSr_Qp",
        "colab_type": "text"
      },
      "source": [
        "리턴이 있는 경우"
      ]
    },
    {
      "cell_type": "code",
      "metadata": {
        "id": "FJW1Fk7QsCnF",
        "colab_type": "code",
        "colab": {}
      },
      "source": [
        "def my_func(a, b):\n",
        "    s = a + b\n",
        "    return s"
      ],
      "execution_count": 21,
      "outputs": []
    },
    {
      "cell_type": "markdown",
      "metadata": {
        "id": "PNslkrn8Qb71",
        "colab_type": "text"
      },
      "source": [
        "result라는 변수에 함수에 대한 리턴 값을 담아주세요"
      ]
    },
    {
      "cell_type": "code",
      "metadata": {
        "id": "BSoWCYtlsH9q",
        "colab_type": "code",
        "colab": {}
      },
      "source": [
        "# 코드를 입력해 주세요\n",
        "result= my_func(5,6)"
      ],
      "execution_count": 22,
      "outputs": []
    },
    {
      "cell_type": "code",
      "metadata": {
        "id": "Z9cd47jY8BQu",
        "colab_type": "code",
        "colab": {
          "base_uri": "https://localhost:8080/",
          "height": 34
        },
        "outputId": "57a6328e-0ac9-4668-e6e5-d2b61b068ed4"
      },
      "source": [
        "result"
      ],
      "execution_count": 23,
      "outputs": [
        {
          "output_type": "execute_result",
          "data": {
            "text/plain": [
              "11"
            ]
          },
          "metadata": {
            "tags": []
          },
          "execution_count": 23
        }
      ]
    },
    {
      "cell_type": "markdown",
      "metadata": {
        "id": "fGMa5m0XsRh9",
        "colab_type": "text"
      },
      "source": [
        "리턴이 있는 경우는 변수에 값을 다시 할당 할 수 있습니다."
      ]
    },
    {
      "cell_type": "code",
      "metadata": {
        "id": "on0cREYssXX6",
        "colab_type": "code",
        "colab": {}
      },
      "source": [
        "ret = my_func(1, 10)"
      ],
      "execution_count": 24,
      "outputs": []
    },
    {
      "cell_type": "code",
      "metadata": {
        "id": "8IvZIcnusZqF",
        "colab_type": "code",
        "colab": {
          "base_uri": "https://localhost:8080/",
          "height": 34
        },
        "outputId": "ac123fa7-e003-43bf-e84a-1e9d13267f97"
      },
      "source": [
        "print(ret)"
      ],
      "execution_count": 25,
      "outputs": [
        {
          "output_type": "stream",
          "text": [
            "11\n"
          ],
          "name": "stdout"
        }
      ]
    },
    {
      "cell_type": "code",
      "metadata": {
        "id": "_2ISL_gusaxr",
        "colab_type": "code",
        "colab": {
          "base_uri": "https://localhost:8080/",
          "height": 34
        },
        "outputId": "348ad1b8-2b20-4ef3-a774-61a6c5ebb297"
      },
      "source": [
        "print(ret + 10)"
      ],
      "execution_count": 26,
      "outputs": [
        {
          "output_type": "stream",
          "text": [
            "21\n"
          ],
          "name": "stdout"
        }
      ]
    },
    {
      "cell_type": "markdown",
      "metadata": {
        "id": "rlfll1eIsf55",
        "colab_type": "text"
      },
      "source": [
        "## 4. parameter는 여러 개 만들 수 있지만, 함수에 넘겨 줄 때 순서가 중요합니다."
      ]
    },
    {
      "cell_type": "code",
      "metadata": {
        "id": "X2olLokms60u",
        "colab_type": "code",
        "colab": {}
      },
      "source": [
        "def my_func(a, b, c):\n",
        "    return (a + b) * c"
      ],
      "execution_count": 27,
      "outputs": []
    },
    {
      "cell_type": "code",
      "metadata": {
        "id": "TB3ufHZIteOS",
        "colab_type": "code",
        "colab": {}
      },
      "source": [
        "a = 10\n",
        "b = 20\n",
        "c = 3"
      ],
      "execution_count": 28,
      "outputs": []
    },
    {
      "cell_type": "code",
      "metadata": {
        "id": "lCM5LshStime",
        "colab_type": "code",
        "colab": {
          "base_uri": "https://localhost:8080/",
          "height": 34
        },
        "outputId": "3dcea0ed-1c04-4aac-cc94-45d477fcfa4c"
      },
      "source": [
        "(a + b) * c"
      ],
      "execution_count": 29,
      "outputs": [
        {
          "output_type": "execute_result",
          "data": {
            "text/plain": [
              "90"
            ]
          },
          "metadata": {
            "tags": []
          },
          "execution_count": 29
        }
      ]
    },
    {
      "cell_type": "code",
      "metadata": {
        "id": "98PmnKFNtkn9",
        "colab_type": "code",
        "colab": {
          "base_uri": "https://localhost:8080/",
          "height": 34
        },
        "outputId": "bb3e9801-6e4a-46ba-948d-4c3a20669429"
      },
      "source": [
        "# 코드를 입력해 주세요\n",
        "my_func(c,b,a)"
      ],
      "execution_count": 30,
      "outputs": [
        {
          "output_type": "execute_result",
          "data": {
            "text/plain": [
              "230"
            ]
          },
          "metadata": {
            "tags": []
          },
          "execution_count": 30
        }
      ]
    },
    {
      "cell_type": "code",
      "metadata": {
        "id": "IdR0zZDBtm_c",
        "colab_type": "code",
        "colab": {
          "base_uri": "https://localhost:8080/",
          "height": 34
        },
        "outputId": "a5e83cb1-3d43-4fa1-8626-44f2e29285e5"
      },
      "source": [
        "# 코드를 입력해 주세요\n",
        "my_func(a,b,c)"
      ],
      "execution_count": 31,
      "outputs": [
        {
          "output_type": "execute_result",
          "data": {
            "text/plain": [
              "90"
            ]
          },
          "metadata": {
            "tags": []
          },
          "execution_count": 31
        }
      ]
    },
    {
      "cell_type": "code",
      "metadata": {
        "id": "HVubANeS-vuw",
        "colab_type": "code",
        "colab": {}
      },
      "source": [
        ""
      ],
      "execution_count": null,
      "outputs": []
    }
  ]
}