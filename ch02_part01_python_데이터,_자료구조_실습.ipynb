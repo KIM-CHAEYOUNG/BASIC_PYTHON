{
  "nbformat": 4,
  "nbformat_minor": 0,
  "metadata": {
    "colab": {
      "name": "ch02_part01_python_데이터,_자료구조_실습.ipynb",
      "provenance": [],
      "collapsed_sections": [],
      "include_colab_link": true
    },
    "kernelspec": {
      "name": "python3",
      "display_name": "Python 3"
    }
  },
  "cells": [
    {
      "cell_type": "markdown",
      "metadata": {
        "id": "view-in-github",
        "colab_type": "text"
      },
      "source": [
        "<a href=\"https://colab.research.google.com/github/KIM-CHAEYOUNG/BASIC_PYTHON/blob/master/ch02_part01_python_%EB%8D%B0%EC%9D%B4%ED%84%B0%2C_%EC%9E%90%EB%A3%8C%EA%B5%AC%EC%A1%B0_%EC%8B%A4%EC%8A%B5.ipynb\" target=\"_parent\"><img src=\"https://colab.research.google.com/assets/colab-badge.svg\" alt=\"Open In Colab\"/></a>"
      ]
    },
    {
      "cell_type": "markdown",
      "metadata": {
        "id": "MQPNVXk1GFug",
        "colab_type": "text"
      },
      "source": [
        "## 1. 출력"
      ]
    },
    {
      "cell_type": "code",
      "metadata": {
        "id": "AeoAHPcnGBxc",
        "colab_type": "code",
        "colab": {
          "base_uri": "https://localhost:8080/",
          "height": 34
        },
        "outputId": "21748d58-7216-48cc-86fe-e851a9be1a67"
      },
      "source": [
        "# 코드를 입력하세요\n",
        "print(\"안녕하세요\")"
      ],
      "execution_count": 1,
      "outputs": [
        {
          "output_type": "stream",
          "text": [
            "안녕하세요\n"
          ],
          "name": "stdout"
        }
      ]
    },
    {
      "cell_type": "code",
      "metadata": {
        "id": "yk2TXq1XkKav",
        "colab_type": "code",
        "colab": {
          "base_uri": "https://localhost:8080/",
          "height": 34
        },
        "outputId": "14e33ac2-a20b-4f44-c28b-240b17315d3c"
      },
      "source": [
        "# 코드를 입력하세요\n",
        "1"
      ],
      "execution_count": 2,
      "outputs": [
        {
          "output_type": "execute_result",
          "data": {
            "text/plain": [
              "1"
            ]
          },
          "metadata": {
            "tags": []
          },
          "execution_count": 2
        }
      ]
    },
    {
      "cell_type": "markdown",
      "metadata": {
        "id": "eI4niQ4OS5Jq",
        "colab_type": "text"
      },
      "source": [
        "셀의 맨 마지막을 항상 출력합니다"
      ]
    },
    {
      "cell_type": "code",
      "metadata": {
        "id": "sOp5HjLClF0u",
        "colab_type": "code",
        "colab": {
          "base_uri": "https://localhost:8080/",
          "height": 34
        },
        "outputId": "5c5ccf9e-f006-4a19-e600-bbaba0168493"
      },
      "source": [
        "# 코드를 입력하세요\n",
        "print(\"'안녕하세요'\")"
      ],
      "execution_count": 4,
      "outputs": [
        {
          "output_type": "stream",
          "text": [
            "'안녕하세요'\n"
          ],
          "name": "stdout"
        }
      ]
    },
    {
      "cell_type": "code",
      "metadata": {
        "id": "HLpTIS3lS0uk",
        "colab_type": "code",
        "colab": {
          "base_uri": "https://localhost:8080/",
          "height": 34
        },
        "outputId": "dad4d77f-9aa0-4f4e-ac95-f4397d04e408"
      },
      "source": [
        "# 코드를 입력하세요\n",
        "print(\"'반갑습니다.\")"
      ],
      "execution_count": 5,
      "outputs": [
        {
          "output_type": "stream",
          "text": [
            "'반갑습니다.\n"
          ],
          "name": "stdout"
        }
      ]
    },
    {
      "cell_type": "markdown",
      "metadata": {
        "id": "zxAqApCSTBek",
        "colab_type": "text"
      },
      "source": [
        "print 구문을 붙혀 주면 중간에서도 출력합니다."
      ]
    },
    {
      "cell_type": "code",
      "metadata": {
        "id": "0vDRiNNlTBrB",
        "colab_type": "code",
        "colab": {
          "base_uri": "https://localhost:8080/",
          "height": 52
        },
        "outputId": "9542bad0-127a-4af7-9e17-93c4912cfe2d"
      },
      "source": [
        "# 코드를 입력하세요\n",
        "print('안녕하세요')\n",
        "print('다음에 또 봐요')"
      ],
      "execution_count": 7,
      "outputs": [
        {
          "output_type": "stream",
          "text": [
            "안녕하세요\n",
            "다음에 또 봐요\n"
          ],
          "name": "stdout"
        }
      ]
    },
    {
      "cell_type": "markdown",
      "metadata": {
        "id": "DhRp7joQQWjC",
        "colab_type": "text"
      },
      "source": [
        "## 2. 변수와 대입"
      ]
    },
    {
      "cell_type": "markdown",
      "metadata": {
        "id": "jYy2_H0LTTV1",
        "colab_type": "text"
      },
      "source": [
        "변수는 **데이터를 담는 그릇**이라고 생각하시면 됩니다.\n",
        "\n",
        "변수라는 그릇에 정수를 담을 수도 있고, 긴 글을 담을 수도 있고, file을 담을 수도 있습니다. 우리가 재사용 하기 쉽게 **별명**을 지정해 줬다라고 쉽게 생각하시기 바랍니다.\n"
      ]
    },
    {
      "cell_type": "markdown",
      "metadata": {
        "id": "pXEzU0KYQlFq",
        "colab_type": "text"
      },
      "source": [
        "### 2-1. 변수의 이름"
      ]
    },
    {
      "cell_type": "markdown",
      "metadata": {
        "id": "bOx6AZblQ7N5",
        "colab_type": "text"
      },
      "source": [
        "case 1. 알파벳 (가능) / 대소문자 모두 가능 /심지어 **한글도 가능하나 사용하는 것은 비추**!"
      ]
    },
    {
      "cell_type": "code",
      "metadata": {
        "id": "TIK6Qp5RQ6-k",
        "colab_type": "code",
        "colab": {}
      },
      "source": [
        "a = 1"
      ],
      "execution_count": 8,
      "outputs": []
    },
    {
      "cell_type": "code",
      "metadata": {
        "id": "Wxpjs5SbSFdV",
        "colab_type": "code",
        "colab": {}
      },
      "source": [
        "A = 1"
      ],
      "execution_count": 9,
      "outputs": []
    },
    {
      "cell_type": "code",
      "metadata": {
        "id": "Pri05QNBSHD_",
        "colab_type": "code",
        "colab": {}
      },
      "source": [
        "변수 = 1"
      ],
      "execution_count": 10,
      "outputs": []
    },
    {
      "cell_type": "code",
      "metadata": {
        "id": "FKfXqeQoSIXU",
        "colab_type": "code",
        "colab": {
          "base_uri": "https://localhost:8080/",
          "height": 34
        },
        "outputId": "c4e6e1ea-1b57-42b4-8988-62675caafbc5"
      },
      "source": [
        "변수"
      ],
      "execution_count": 11,
      "outputs": [
        {
          "output_type": "execute_result",
          "data": {
            "text/plain": [
              "1"
            ]
          },
          "metadata": {
            "tags": []
          },
          "execution_count": 11
        }
      ]
    },
    {
      "cell_type": "markdown",
      "metadata": {
        "id": "nEyz3D-8Quh5",
        "colab_type": "text"
      },
      "source": [
        "case 2. 알파벳 + 숫자 (가능)"
      ]
    },
    {
      "cell_type": "code",
      "metadata": {
        "id": "XJZFGL3oQk87",
        "colab_type": "code",
        "colab": {}
      },
      "source": [
        "a1 = 1"
      ],
      "execution_count": 12,
      "outputs": []
    },
    {
      "cell_type": "markdown",
      "metadata": {
        "id": "DMODcJQnRJQU",
        "colab_type": "text"
      },
      "source": [
        "case 3. 알파벳 + 언더바(_) (가능)"
      ]
    },
    {
      "cell_type": "code",
      "metadata": {
        "id": "iLZ6Bp8PRaay",
        "colab_type": "code",
        "colab": {}
      },
      "source": [
        "a_ = 1"
      ],
      "execution_count": 13,
      "outputs": []
    },
    {
      "cell_type": "markdown",
      "metadata": {
        "id": "yfz1ox-5Rb0I",
        "colab_type": "text"
      },
      "source": [
        "case 4. 언더바(_) + 알파벳 (가능))"
      ]
    },
    {
      "cell_type": "code",
      "metadata": {
        "id": "gXKzcmybRizo",
        "colab_type": "code",
        "colab": {}
      },
      "source": [
        "_a = 1"
      ],
      "execution_count": 14,
      "outputs": []
    },
    {
      "cell_type": "markdown",
      "metadata": {
        "id": "OrfMZBODQkyU",
        "colab_type": "text"
      },
      "source": [
        "case 5. 숫자 + 알파벳 (불가능)"
      ]
    },
    {
      "cell_type": "code",
      "metadata": {
        "id": "Po0D-oA_QWLq",
        "colab_type": "code",
        "colab": {
          "base_uri": "https://localhost:8080/",
          "height": 134
        },
        "outputId": "5581c5c2-6e7d-4994-a326-deede640799b"
      },
      "source": [
        "1a = 1"
      ],
      "execution_count": 15,
      "outputs": [
        {
          "output_type": "error",
          "ename": "SyntaxError",
          "evalue": "ignored",
          "traceback": [
            "\u001b[0;36m  File \u001b[0;32m\"<ipython-input-15-cc67e5ecf289>\"\u001b[0;36m, line \u001b[0;32m1\u001b[0m\n\u001b[0;31m    1a = 1\u001b[0m\n\u001b[0m     ^\u001b[0m\n\u001b[0;31mSyntaxError\u001b[0m\u001b[0;31m:\u001b[0m invalid syntax\n"
          ]
        }
      ]
    },
    {
      "cell_type": "markdown",
      "metadata": {
        "id": "cVC_51UAQ4_E",
        "colab_type": "text"
      },
      "source": [
        "case 6. 특수문자 (불가능)"
      ]
    },
    {
      "cell_type": "code",
      "metadata": {
        "id": "1R5QFrVcRsip",
        "colab_type": "code",
        "colab": {
          "base_uri": "https://localhost:8080/",
          "height": 134
        },
        "outputId": "4aef81cb-1d82-4f5c-9731-55c47330e1c9"
      },
      "source": [
        "* = 7"
      ],
      "execution_count": 16,
      "outputs": [
        {
          "output_type": "error",
          "ename": "SyntaxError",
          "evalue": "ignored",
          "traceback": [
            "\u001b[0;36m  File \u001b[0;32m\"<ipython-input-16-e21efa324dba>\"\u001b[0;36m, line \u001b[0;32m1\u001b[0m\n\u001b[0;31m    * = 7\u001b[0m\n\u001b[0m      ^\u001b[0m\n\u001b[0;31mSyntaxError\u001b[0m\u001b[0;31m:\u001b[0m invalid syntax\n"
          ]
        }
      ]
    },
    {
      "cell_type": "markdown",
      "metadata": {
        "id": "DApK72LyRuWk",
        "colab_type": "text"
      },
      "source": [
        "case 7. 언더바를 제외한 특수문자 (불가능)"
      ]
    },
    {
      "cell_type": "code",
      "metadata": {
        "id": "ib-k4vjZRuKR",
        "colab_type": "code",
        "colab": {
          "base_uri": "https://localhost:8080/",
          "height": 134
        },
        "outputId": "191ac932-51e8-485f-a994-0d8cd4d8161c"
      },
      "source": [
        "a$ = 6"
      ],
      "execution_count": 17,
      "outputs": [
        {
          "output_type": "error",
          "ename": "SyntaxError",
          "evalue": "ignored",
          "traceback": [
            "\u001b[0;36m  File \u001b[0;32m\"<ipython-input-17-7b68e0211941>\"\u001b[0;36m, line \u001b[0;32m1\u001b[0m\n\u001b[0;31m    a$ = 6\u001b[0m\n\u001b[0m     ^\u001b[0m\n\u001b[0;31mSyntaxError\u001b[0m\u001b[0;31m:\u001b[0m invalid syntax\n"
          ]
        }
      ]
    },
    {
      "cell_type": "markdown",
      "metadata": {
        "id": "C4N7rPjenZfj",
        "colab_type": "text"
      },
      "source": [
        "case 8. 변수의 이름 사이의 공백 (불가능)"
      ]
    },
    {
      "cell_type": "code",
      "metadata": {
        "id": "t0noa6EOngJc",
        "colab_type": "code",
        "colab": {
          "base_uri": "https://localhost:8080/",
          "height": 134
        },
        "outputId": "e3718e1f-8302-4ad1-f1fe-dc6a5f9b56de"
      },
      "source": [
        "a b = 6"
      ],
      "execution_count": 18,
      "outputs": [
        {
          "output_type": "error",
          "ename": "SyntaxError",
          "evalue": "ignored",
          "traceback": [
            "\u001b[0;36m  File \u001b[0;32m\"<ipython-input-18-38dc6d48d57b>\"\u001b[0;36m, line \u001b[0;32m1\u001b[0m\n\u001b[0;31m    a b = 6\u001b[0m\n\u001b[0m      ^\u001b[0m\n\u001b[0;31mSyntaxError\u001b[0m\u001b[0;31m:\u001b[0m invalid syntax\n"
          ]
        }
      ]
    },
    {
      "cell_type": "markdown",
      "metadata": {
        "id": "Zi16utkrSWUB",
        "colab_type": "text"
      },
      "source": [
        "주로 변수는 **소문자 알파벳으로 생성**하고, 필요시 **언더바**나 **숫자를 붙히는 방식**이 일반적입니다."
      ]
    },
    {
      "cell_type": "code",
      "metadata": {
        "id": "7um-fqf7R7gl",
        "colab_type": "code",
        "colab": {}
      },
      "source": [
        "test = 10"
      ],
      "execution_count": 19,
      "outputs": []
    },
    {
      "cell_type": "code",
      "metadata": {
        "id": "niBpyRtkSmIq",
        "colab_type": "code",
        "colab": {}
      },
      "source": [
        "test01 = 20"
      ],
      "execution_count": 20,
      "outputs": []
    },
    {
      "cell_type": "code",
      "metadata": {
        "id": "01krOD1tSprV",
        "colab_type": "code",
        "colab": {}
      },
      "source": [
        "test_01 = 30"
      ],
      "execution_count": 21,
      "outputs": []
    },
    {
      "cell_type": "markdown",
      "metadata": {
        "id": "duU9a-x5nl2k",
        "colab_type": "text"
      },
      "source": [
        "### 2-2. 변수의 출력"
      ]
    },
    {
      "cell_type": "markdown",
      "metadata": {
        "id": "4vsJdyfOnq50",
        "colab_type": "text"
      },
      "source": [
        "1. print() 구문 사이에 **값을 직접 집어 넣으면**, 바로 **값이 출력**됩니다.\n",
        "2. print() 구문 사이에 **변수 이름**을 집어 넣으면, 그 **값이 출력**이 됩니다."
      ]
    },
    {
      "cell_type": "code",
      "metadata": {
        "id": "Nn1PnFk5nn3v",
        "colab_type": "code",
        "colab": {
          "base_uri": "https://localhost:8080/",
          "height": 34
        },
        "outputId": "76b18395-6bd5-4f91-9589-22e4735776b8"
      },
      "source": [
        "# 코드를 입력하세요\n",
        "print('test')"
      ],
      "execution_count": 22,
      "outputs": [
        {
          "output_type": "stream",
          "text": [
            "test\n"
          ],
          "name": "stdout"
        }
      ]
    },
    {
      "cell_type": "code",
      "metadata": {
        "id": "D9sHc-WRnqAm",
        "colab_type": "code",
        "colab": {}
      },
      "source": [
        "a = 123"
      ],
      "execution_count": 24,
      "outputs": []
    },
    {
      "cell_type": "code",
      "metadata": {
        "id": "9dtXPwFhoGn0",
        "colab_type": "code",
        "colab": {
          "base_uri": "https://localhost:8080/",
          "height": 34
        },
        "outputId": "693f331a-f727-4ba0-94e8-3659490aeb3b"
      },
      "source": [
        "# 코드를 입력하세요\n",
        "print(a)"
      ],
      "execution_count": 25,
      "outputs": [
        {
          "output_type": "stream",
          "text": [
            "123\n"
          ],
          "name": "stdout"
        }
      ]
    },
    {
      "cell_type": "code",
      "metadata": {
        "id": "gqjwycpjoLFU",
        "colab_type": "code",
        "colab": {}
      },
      "source": [
        "a = '안녕하세요, 반갑습니다'"
      ],
      "execution_count": null,
      "outputs": []
    },
    {
      "cell_type": "code",
      "metadata": {
        "id": "1Y6yv3IjoLN2",
        "colab_type": "code",
        "colab": {
          "base_uri": "https://localhost:8080/",
          "height": 34
        },
        "outputId": "256f96e1-d9d7-4cfa-d402-226949c8b908"
      },
      "source": [
        "print(a)"
      ],
      "execution_count": 26,
      "outputs": [
        {
          "output_type": "stream",
          "text": [
            "123\n"
          ],
          "name": "stdout"
        }
      ]
    },
    {
      "cell_type": "markdown",
      "metadata": {
        "id": "e3jWuNkIFf52",
        "colab_type": "text"
      },
      "source": [
        "## 3. 데이터 타입"
      ]
    },
    {
      "cell_type": "markdown",
      "metadata": {
        "id": "XG1zmhr-GLBP",
        "colab_type": "text"
      },
      "source": [
        "**데이터 type**\n",
        "\n",
        "1. int(정수)\n",
        "2. float(실수)\n",
        "3. str(문자열) \n",
        "4. bool(참/거짓)"
      ]
    },
    {
      "cell_type": "markdown",
      "metadata": {
        "id": "QHYQ09XIGg1_",
        "colab_type": "text"
      },
      "source": [
        "### 3-1. int(정수)"
      ]
    },
    {
      "cell_type": "code",
      "metadata": {
        "id": "y1cPV_XxFrkb",
        "colab_type": "code",
        "colab": {}
      },
      "source": [
        "a = 1"
      ],
      "execution_count": 27,
      "outputs": []
    },
    {
      "cell_type": "code",
      "metadata": {
        "id": "At5R-m--FuuR",
        "colab_type": "code",
        "colab": {
          "base_uri": "https://localhost:8080/",
          "height": 34
        },
        "outputId": "126b3e7e-0d63-4703-b5c2-7631b36a9a43"
      },
      "source": [
        "# 코드를 입력하세요\n",
        "type(a)"
      ],
      "execution_count": 28,
      "outputs": [
        {
          "output_type": "execute_result",
          "data": {
            "text/plain": [
              "int"
            ]
          },
          "metadata": {
            "tags": []
          },
          "execution_count": 28
        }
      ]
    },
    {
      "cell_type": "code",
      "metadata": {
        "id": "LPjP8lXe29pY",
        "colab_type": "code",
        "colab": {
          "base_uri": "https://localhost:8080/",
          "height": 34
        },
        "outputId": "23329bd0-6388-4edb-9621-0d8c4e3c9837"
      },
      "source": [
        "# 코드를 입력하세요\n",
        "if 1:\n",
        "  print('1은 참으로 취급')\n",
        "else:\n",
        "  print(\"1은 거짓부렁이\")"
      ],
      "execution_count": 29,
      "outputs": [
        {
          "output_type": "stream",
          "text": [
            "1은 참으로 취급\n"
          ],
          "name": "stdout"
        }
      ]
    },
    {
      "cell_type": "code",
      "metadata": {
        "id": "SzGkwbom3BrH",
        "colab_type": "code",
        "colab": {
          "base_uri": "https://localhost:8080/",
          "height": 34
        },
        "outputId": "fc786ab1-0172-4422-ad0e-a2208c599e31"
      },
      "source": [
        "# 코드를 입력하세요\n",
        "if 0:\n",
        "  print('0은 참으로 취급')\n",
        "else:\n",
        "  print('0은 거짓부렁이')"
      ],
      "execution_count": 31,
      "outputs": [
        {
          "output_type": "stream",
          "text": [
            "0은 거짓부렁이\n"
          ],
          "name": "stdout"
        }
      ]
    },
    {
      "cell_type": "code",
      "metadata": {
        "id": "bKg4n9yz3DP6",
        "colab_type": "code",
        "colab": {
          "base_uri": "https://localhost:8080/",
          "height": 34
        },
        "outputId": "8d6c1e27-51fb-47ab-b497-6f0c7be60ca0"
      },
      "source": [
        "# 코드를 입력하세요\n",
        "if 123:\n",
        "  print('123은 참으로 취급')\n",
        "else:\n",
        "  print('123은 거짓부렁이')"
      ],
      "execution_count": 32,
      "outputs": [
        {
          "output_type": "stream",
          "text": [
            "123은 참으로 취급\n"
          ],
          "name": "stdout"
        }
      ]
    },
    {
      "cell_type": "markdown",
      "metadata": {
        "id": "qOJu5f5kGjpf",
        "colab_type": "text"
      },
      "source": [
        "### 3-2. float(실수)"
      ]
    },
    {
      "cell_type": "code",
      "metadata": {
        "id": "4N-NaYDdGlTF",
        "colab_type": "code",
        "colab": {}
      },
      "source": [
        "a = 3.14"
      ],
      "execution_count": 33,
      "outputs": []
    },
    {
      "cell_type": "code",
      "metadata": {
        "id": "W-OYC_1zGneM",
        "colab_type": "code",
        "colab": {
          "base_uri": "https://localhost:8080/",
          "height": 34
        },
        "outputId": "b7989a99-7381-4fd6-880f-50d9584af2b3"
      },
      "source": [
        "# 코드를 입력하세요\n",
        "type(a)"
      ],
      "execution_count": 34,
      "outputs": [
        {
          "output_type": "execute_result",
          "data": {
            "text/plain": [
              "float"
            ]
          },
          "metadata": {
            "tags": []
          },
          "execution_count": 34
        }
      ]
    },
    {
      "cell_type": "code",
      "metadata": {
        "id": "9wJn_P-roVh9",
        "colab_type": "code",
        "colab": {
          "base_uri": "https://localhost:8080/",
          "height": 34
        },
        "outputId": "6003d337-43f7-4003-ba55-921ebc083fd4"
      },
      "source": [
        "# 코드를 입력하세요\n",
        "print(a)"
      ],
      "execution_count": 35,
      "outputs": [
        {
          "output_type": "stream",
          "text": [
            "3.14\n"
          ],
          "name": "stdout"
        }
      ]
    },
    {
      "cell_type": "markdown",
      "metadata": {
        "id": "5sc68iMeGpJO",
        "colab_type": "text"
      },
      "source": [
        "### 3-3. str 혹은 object (문자)"
      ]
    },
    {
      "cell_type": "code",
      "metadata": {
        "id": "cosCc_J0Fv8l",
        "colab_type": "code",
        "colab": {}
      },
      "source": [
        "word = '안녕하세요'"
      ],
      "execution_count": 36,
      "outputs": []
    },
    {
      "cell_type": "code",
      "metadata": {
        "id": "1S7b3MedofHY",
        "colab_type": "code",
        "colab": {}
      },
      "source": [
        "word = \"안녕하세요\""
      ],
      "execution_count": 37,
      "outputs": []
    },
    {
      "cell_type": "code",
      "metadata": {
        "id": "8h_mSzprGr0M",
        "colab_type": "code",
        "colab": {
          "base_uri": "https://localhost:8080/",
          "height": 34
        },
        "outputId": "5924f9ca-9a37-47b0-8a00-c68cbf03bbb0"
      },
      "source": [
        "# 코드를 입력하세요\n",
        "type(word)"
      ],
      "execution_count": 38,
      "outputs": [
        {
          "output_type": "execute_result",
          "data": {
            "text/plain": [
              "str"
            ]
          },
          "metadata": {
            "tags": []
          },
          "execution_count": 38
        }
      ]
    },
    {
      "cell_type": "code",
      "metadata": {
        "id": "wkeYQZL3F5PS",
        "colab_type": "code",
        "colab": {}
      },
      "source": [
        "word = \"안녕하세요\""
      ],
      "execution_count": null,
      "outputs": []
    },
    {
      "cell_type": "code",
      "metadata": {
        "id": "QAIcA-SXF7iw",
        "colab_type": "code",
        "colab": {
          "base_uri": "https://localhost:8080/",
          "height": 34
        },
        "outputId": "11008b9c-6b72-44f4-c376-7163a58cd798"
      },
      "source": [
        "type(word)"
      ],
      "execution_count": 39,
      "outputs": [
        {
          "output_type": "execute_result",
          "data": {
            "text/plain": [
              "str"
            ]
          },
          "metadata": {
            "tags": []
          },
          "execution_count": 39
        }
      ]
    },
    {
      "cell_type": "markdown",
      "metadata": {
        "id": "v867uiHyF8nE",
        "colab_type": "text"
      },
      "source": [
        "### 3-4. bool (참/거짓)"
      ]
    },
    {
      "cell_type": "code",
      "metadata": {
        "id": "cj28ZTzLQNrV",
        "colab_type": "code",
        "colab": {}
      },
      "source": [
        "a = False"
      ],
      "execution_count": 41,
      "outputs": []
    },
    {
      "cell_type": "code",
      "metadata": {
        "id": "nJayiV8HQP2S",
        "colab_type": "code",
        "colab": {
          "base_uri": "https://localhost:8080/",
          "height": 34
        },
        "outputId": "a0ec6338-a24d-4801-f7bb-0608d9afb18c"
      },
      "source": [
        "# 코드를 입력하세요\n",
        "print(a)"
      ],
      "execution_count": 42,
      "outputs": [
        {
          "output_type": "stream",
          "text": [
            "False\n"
          ],
          "name": "stdout"
        }
      ]
    },
    {
      "cell_type": "code",
      "metadata": {
        "id": "-liXhXbSQQUj",
        "colab_type": "code",
        "colab": {
          "base_uri": "https://localhost:8080/",
          "height": 34
        },
        "outputId": "c2c772d1-d037-4738-b0a9-e20baf01b3c3"
      },
      "source": [
        "0 == False"
      ],
      "execution_count": 43,
      "outputs": [
        {
          "output_type": "execute_result",
          "data": {
            "text/plain": [
              "True"
            ]
          },
          "metadata": {
            "tags": []
          },
          "execution_count": 43
        }
      ]
    },
    {
      "cell_type": "markdown",
      "metadata": {
        "id": "oBWsyhdR2Mc5",
        "colab_type": "text"
      },
      "source": [
        "### 3-5 아무것도 아닌 None 타입도 있습니다."
      ]
    },
    {
      "cell_type": "markdown",
      "metadata": {
        "id": "G0DtMj4R2Vte",
        "colab_type": "text"
      },
      "source": [
        "말 그래도 아무 것도 아닌 흔히 Null 값을 넣는다고도 합니다.\n",
        "\n",
        "사전상 의미는<br>\n",
        "* **Null: Nullify (무효화하다)**\n",
        "라는 뜻을 가지고 있다네요~\n",
        "\n",
        "python에서는 **None** 입니다!"
      ]
    },
    {
      "cell_type": "code",
      "metadata": {
        "id": "rFrHjjC22MMA",
        "colab_type": "code",
        "colab": {}
      },
      "source": [
        "a = None"
      ],
      "execution_count": 44,
      "outputs": []
    },
    {
      "cell_type": "code",
      "metadata": {
        "id": "ABzXxy-EpVll",
        "colab_type": "code",
        "colab": {
          "base_uri": "https://localhost:8080/",
          "height": 34
        },
        "outputId": "59fdb4e5-330a-4a14-e3f8-f5767b8b0705"
      },
      "source": [
        "# 코드를 입력하세요\n",
        "type(a)"
      ],
      "execution_count": 45,
      "outputs": [
        {
          "output_type": "execute_result",
          "data": {
            "text/plain": [
              "NoneType"
            ]
          },
          "metadata": {
            "tags": []
          },
          "execution_count": 45
        }
      ]
    },
    {
      "cell_type": "code",
      "metadata": {
        "id": "PpO_s24z2R5u",
        "colab_type": "code",
        "colab": {
          "base_uri": "https://localhost:8080/",
          "height": 34
        },
        "outputId": "42e67b6f-1335-4c63-8a2f-5185ccc6b863"
      },
      "source": [
        "# 코드를 입력하세요\n",
        "print(a)"
      ],
      "execution_count": 47,
      "outputs": [
        {
          "output_type": "stream",
          "text": [
            "None\n"
          ],
          "name": "stdout"
        }
      ]
    },
    {
      "cell_type": "markdown",
      "metadata": {
        "id": "gf4OoaUF2wvK",
        "colab_type": "text"
      },
      "source": [
        "조건문에 None이라면??"
      ]
    },
    {
      "cell_type": "code",
      "metadata": {
        "id": "P1ivS-O_2v9C",
        "colab_type": "code",
        "colab": {
          "base_uri": "https://localhost:8080/",
          "height": 34
        },
        "outputId": "77370181-4035-474d-c058-67d7ae1b7659"
      },
      "source": [
        "# 코드를 입력하세요\n",
        "if None:\n",
        "  print(\"None은 참으로 취급\")\n",
        "else:\n",
        "  print('None은 거짓부렁이')"
      ],
      "execution_count": 48,
      "outputs": [
        {
          "output_type": "stream",
          "text": [
            "None은 거짓부렁이\n"
          ],
          "name": "stdout"
        }
      ]
    },
    {
      "cell_type": "markdown",
      "metadata": {
        "id": "KgAFjs7iUREl",
        "colab_type": "text"
      },
      "source": [
        "## 4. 데이터 타입 (집합)"
      ]
    },
    {
      "cell_type": "markdown",
      "metadata": {
        "id": "Efu2Vqm7URLR",
        "colab_type": "text"
      },
      "source": [
        "**집합 형태의 데이터 타입**\n",
        "\n",
        "1. list (순서 O, 집합)\n",
        "2. tuple (순서 O, 읽기 전용 집합)\n",
        "3. set (순서 X, 중복X 집합)\n",
        "4. dict (key, value로 이루어진 사전형 집합)"
      ]
    },
    {
      "cell_type": "markdown",
      "metadata": {
        "id": "d610lQinUwSN",
        "colab_type": "text"
      },
      "source": [
        "### 4-1. list (순서가 있는 집합)"
      ]
    },
    {
      "cell_type": "markdown",
      "metadata": {
        "id": "g-HX7XnQU5zN",
        "colab_type": "text"
      },
      "source": [
        "[] 형태로 표현합니다."
      ]
    },
    {
      "cell_type": "code",
      "metadata": {
        "id": "xSAez-0xU_sg",
        "colab_type": "code",
        "colab": {}
      },
      "source": [
        "mylist = []"
      ],
      "execution_count": 49,
      "outputs": []
    },
    {
      "cell_type": "code",
      "metadata": {
        "id": "O17Nau-hVBW3",
        "colab_type": "code",
        "colab": {
          "base_uri": "https://localhost:8080/",
          "height": 34
        },
        "outputId": "b97edb8c-5b5d-418c-99d3-629d355ceb2b"
      },
      "source": [
        "mylist"
      ],
      "execution_count": 50,
      "outputs": [
        {
          "output_type": "execute_result",
          "data": {
            "text/plain": [
              "[]"
            ]
          },
          "metadata": {
            "tags": []
          },
          "execution_count": 50
        }
      ]
    },
    {
      "cell_type": "code",
      "metadata": {
        "id": "G7Z_0FsuVDGT",
        "colab_type": "code",
        "colab": {
          "base_uri": "https://localhost:8080/",
          "height": 34
        },
        "outputId": "ca1d6ad6-38f8-4707-e5eb-6b3e53765c2d"
      },
      "source": [
        "# 코드를 입력하세요\n",
        "type(mylist)"
      ],
      "execution_count": 51,
      "outputs": [
        {
          "output_type": "execute_result",
          "data": {
            "text/plain": [
              "list"
            ]
          },
          "metadata": {
            "tags": []
          },
          "execution_count": 51
        }
      ]
    },
    {
      "cell_type": "code",
      "metadata": {
        "id": "IVS7djx4U0KS",
        "colab_type": "code",
        "colab": {}
      },
      "source": [
        "mylist = [1, 3, 2, 4, 5]"
      ],
      "execution_count": 52,
      "outputs": []
    },
    {
      "cell_type": "code",
      "metadata": {
        "id": "SZlFHpFaU3sg",
        "colab_type": "code",
        "colab": {
          "base_uri": "https://localhost:8080/",
          "height": 34
        },
        "outputId": "795d02f5-9102-49d2-e778-25e28da3e735"
      },
      "source": [
        "# 코드를 입력하세요\n",
        "mylist"
      ],
      "execution_count": 54,
      "outputs": [
        {
          "output_type": "execute_result",
          "data": {
            "text/plain": [
              "[1, 3, 2, 4, 5]"
            ]
          },
          "metadata": {
            "tags": []
          },
          "execution_count": 54
        }
      ]
    },
    {
      "cell_type": "markdown",
      "metadata": {
        "id": "JSh4BXzRWUY_",
        "colab_type": "text"
      },
      "source": [
        "#### 값을 추가하기"
      ]
    },
    {
      "cell_type": "code",
      "metadata": {
        "id": "YeP2EYj8U4Ms",
        "colab_type": "code",
        "colab": {}
      },
      "source": [
        "mylist = []"
      ],
      "execution_count": 65,
      "outputs": []
    },
    {
      "cell_type": "code",
      "metadata": {
        "id": "ilJWB7H8qjNa",
        "colab_type": "code",
        "colab": {
          "base_uri": "https://localhost:8080/",
          "height": 34
        },
        "outputId": "3fff9544-14e5-4141-a77e-9ecc4ec91c2d"
      },
      "source": [
        "mylist"
      ],
      "execution_count": 66,
      "outputs": [
        {
          "output_type": "execute_result",
          "data": {
            "text/plain": [
              "[]"
            ]
          },
          "metadata": {
            "tags": []
          },
          "execution_count": 66
        }
      ]
    },
    {
      "cell_type": "code",
      "metadata": {
        "id": "AYHFOiG2VJEQ",
        "colab_type": "code",
        "colab": {}
      },
      "source": [
        "# 코드를 입력하세요\n",
        "mylist.append(1)"
      ],
      "execution_count": 67,
      "outputs": []
    },
    {
      "cell_type": "code",
      "metadata": {
        "id": "LBBwfWxRVK6E",
        "colab_type": "code",
        "colab": {
          "base_uri": "https://localhost:8080/",
          "height": 34
        },
        "outputId": "1cb41edf-36bb-497a-b50f-c5404aab9b4d"
      },
      "source": [
        "mylist"
      ],
      "execution_count": 68,
      "outputs": [
        {
          "output_type": "execute_result",
          "data": {
            "text/plain": [
              "[1]"
            ]
          },
          "metadata": {
            "tags": []
          },
          "execution_count": 68
        }
      ]
    },
    {
      "cell_type": "code",
      "metadata": {
        "id": "c1nS9xs8VLYo",
        "colab_type": "code",
        "colab": {}
      },
      "source": [
        "# 코드를 입력하세요\n",
        "mylist.append(2)\n",
        "mylist.append(3)"
      ],
      "execution_count": 69,
      "outputs": []
    },
    {
      "cell_type": "code",
      "metadata": {
        "id": "OJG-lnc-VN_W",
        "colab_type": "code",
        "colab": {
          "base_uri": "https://localhost:8080/",
          "height": 34
        },
        "outputId": "6883fa7b-e566-4b50-cb86-505e74746fa7"
      },
      "source": [
        "mylist"
      ],
      "execution_count": 70,
      "outputs": [
        {
          "output_type": "execute_result",
          "data": {
            "text/plain": [
              "[1, 2, 3]"
            ]
          },
          "metadata": {
            "tags": []
          },
          "execution_count": 70
        }
      ]
    },
    {
      "cell_type": "markdown",
      "metadata": {
        "id": "mwaKcYsRWatD",
        "colab_type": "text"
      },
      "source": [
        "#### 값을 제거하기"
      ]
    },
    {
      "cell_type": "code",
      "metadata": {
        "id": "ZjRQXZAHWccX",
        "colab_type": "code",
        "colab": {
          "base_uri": "https://localhost:8080/",
          "height": 34
        },
        "outputId": "3a989c5c-3ba7-4513-bdeb-910c2f3ffa0e"
      },
      "source": [
        "mylist"
      ],
      "execution_count": null,
      "outputs": [
        {
          "output_type": "execute_result",
          "data": {
            "text/plain": [
              "[1, 2, 3]"
            ]
          },
          "metadata": {
            "tags": []
          },
          "execution_count": 73
        }
      ]
    },
    {
      "cell_type": "code",
      "metadata": {
        "id": "ftFR8PsbVOx0",
        "colab_type": "code",
        "colab": {}
      },
      "source": [
        "# 코드를 입력하세요\n",
        "mylist.remove(1)"
      ],
      "execution_count": 71,
      "outputs": []
    },
    {
      "cell_type": "code",
      "metadata": {
        "id": "ezdTLXnmVQ-E",
        "colab_type": "code",
        "colab": {
          "base_uri": "https://localhost:8080/",
          "height": 34
        },
        "outputId": "d303ccf0-700e-4d86-d677-89e68f89979f"
      },
      "source": [
        "mylist"
      ],
      "execution_count": 72,
      "outputs": [
        {
          "output_type": "execute_result",
          "data": {
            "text/plain": [
              "[2, 3]"
            ]
          },
          "metadata": {
            "tags": []
          },
          "execution_count": 72
        }
      ]
    },
    {
      "cell_type": "code",
      "metadata": {
        "id": "TsBOX9IHVRgU",
        "colab_type": "code",
        "colab": {
          "base_uri": "https://localhost:8080/",
          "height": 169
        },
        "outputId": "0d01dcf0-395b-4d56-ffa8-8b26365bc859"
      },
      "source": [
        "mylist.remove(1)"
      ],
      "execution_count": null,
      "outputs": [
        {
          "output_type": "error",
          "ename": "ValueError",
          "evalue": "ignored",
          "traceback": [
            "\u001b[0;31m---------------------------------------------------------------------------\u001b[0m",
            "\u001b[0;31mValueError\u001b[0m                                Traceback (most recent call last)",
            "\u001b[0;32m<ipython-input-76-c90a6cab05e0>\u001b[0m in \u001b[0;36m<module>\u001b[0;34m()\u001b[0m\n\u001b[0;32m----> 1\u001b[0;31m \u001b[0mmylist\u001b[0m\u001b[0;34m.\u001b[0m\u001b[0mremove\u001b[0m\u001b[0;34m(\u001b[0m\u001b[0;36m1\u001b[0m\u001b[0;34m)\u001b[0m\u001b[0;34m\u001b[0m\u001b[0;34m\u001b[0m\u001b[0m\n\u001b[0m",
            "\u001b[0;31mValueError\u001b[0m: list.remove(x): x not in list"
          ]
        }
      ]
    },
    {
      "cell_type": "markdown",
      "metadata": {
        "id": "Qn2cU-K6WhZ4",
        "colab_type": "text"
      },
      "source": [
        "#### 여러 값들이 포함되어 있을 때 제거 순서"
      ]
    },
    {
      "cell_type": "code",
      "metadata": {
        "id": "KDPL_b6UVnoE",
        "colab_type": "code",
        "colab": {}
      },
      "source": [
        "mylist = []\n",
        "mylist.append(1)\n",
        "mylist.append(2)\n",
        "mylist.append(3)\n",
        "mylist.append(1)\n",
        "mylist.append(2)\n",
        "mylist.append(3)"
      ],
      "execution_count": 73,
      "outputs": []
    },
    {
      "cell_type": "code",
      "metadata": {
        "id": "wHhj44g2V0oq",
        "colab_type": "code",
        "colab": {
          "base_uri": "https://localhost:8080/",
          "height": 34
        },
        "outputId": "c7220cfc-44de-4caa-e5ca-1ce990e76dcd"
      },
      "source": [
        "mylist"
      ],
      "execution_count": 74,
      "outputs": [
        {
          "output_type": "execute_result",
          "data": {
            "text/plain": [
              "[1, 2, 3, 1, 2, 3]"
            ]
          },
          "metadata": {
            "tags": []
          },
          "execution_count": 74
        }
      ]
    },
    {
      "cell_type": "code",
      "metadata": {
        "id": "dCXy8fecV1Ki",
        "colab_type": "code",
        "colab": {}
      },
      "source": [
        "# 코드를 입력하세요\n",
        "mylist.remove(1)"
      ],
      "execution_count": 77,
      "outputs": []
    },
    {
      "cell_type": "code",
      "metadata": {
        "id": "sY20CamuV3bp",
        "colab_type": "code",
        "colab": {
          "base_uri": "https://localhost:8080/",
          "height": 34
        },
        "outputId": "0a77159e-b8c4-4af3-9a5d-6f9cb47b1a0f"
      },
      "source": [
        "mylist"
      ],
      "execution_count": 78,
      "outputs": [
        {
          "output_type": "execute_result",
          "data": {
            "text/plain": [
              "[2, 3, 1, 2, 3]"
            ]
          },
          "metadata": {
            "tags": []
          },
          "execution_count": 78
        }
      ]
    },
    {
      "cell_type": "code",
      "metadata": {
        "id": "6RDuQGxuV4Bk",
        "colab_type": "code",
        "colab": {}
      },
      "source": [
        "# 코드를 입력하세요\n",
        "mylist.remove(1)"
      ],
      "execution_count": 79,
      "outputs": []
    },
    {
      "cell_type": "code",
      "metadata": {
        "id": "04xYdv_dV6M_",
        "colab_type": "code",
        "colab": {
          "base_uri": "https://localhost:8080/",
          "height": 34
        },
        "outputId": "b063e11a-9396-4346-de7b-d89f1bcef1b1"
      },
      "source": [
        "mylist"
      ],
      "execution_count": 80,
      "outputs": [
        {
          "output_type": "execute_result",
          "data": {
            "text/plain": [
              "[2, 3, 2, 3]"
            ]
          },
          "metadata": {
            "tags": []
          },
          "execution_count": 80
        }
      ]
    },
    {
      "cell_type": "code",
      "metadata": {
        "id": "UYSzqKbSV_PT",
        "colab_type": "code",
        "colab": {
          "base_uri": "https://localhost:8080/",
          "height": 169
        },
        "outputId": "aa41fc67-4357-467f-b18e-92ba4b2edba9"
      },
      "source": [
        "mylist.remove(1)"
      ],
      "execution_count": 81,
      "outputs": [
        {
          "output_type": "error",
          "ename": "ValueError",
          "evalue": "ignored",
          "traceback": [
            "\u001b[0;31m---------------------------------------------------------------------------\u001b[0m",
            "\u001b[0;31mValueError\u001b[0m                                Traceback (most recent call last)",
            "\u001b[0;32m<ipython-input-81-c90a6cab05e0>\u001b[0m in \u001b[0;36m<module>\u001b[0;34m()\u001b[0m\n\u001b[0;32m----> 1\u001b[0;31m \u001b[0mmylist\u001b[0m\u001b[0;34m.\u001b[0m\u001b[0mremove\u001b[0m\u001b[0;34m(\u001b[0m\u001b[0;36m1\u001b[0m\u001b[0;34m)\u001b[0m\u001b[0;34m\u001b[0m\u001b[0;34m\u001b[0m\u001b[0m\n\u001b[0m",
            "\u001b[0;31mValueError\u001b[0m: list.remove(x): x not in list"
          ]
        }
      ]
    },
    {
      "cell_type": "markdown",
      "metadata": {
        "id": "k0w9nYxPWSNO",
        "colab_type": "text"
      },
      "source": [
        "#### 인덱싱(indexing) -> 색인"
      ]
    },
    {
      "cell_type": "code",
      "metadata": {
        "id": "qY6rAQpWW5Pr",
        "colab_type": "code",
        "colab": {}
      },
      "source": [
        "mylist = [1, 2, 3, 4]"
      ],
      "execution_count": 82,
      "outputs": []
    },
    {
      "cell_type": "markdown",
      "metadata": {
        "id": "l9ad4C1XW9KE",
        "colab_type": "text"
      },
      "source": [
        "인덱스는 **0번 부터 시작** 합니다."
      ]
    },
    {
      "cell_type": "code",
      "metadata": {
        "id": "nxGtMBuUWSXd",
        "colab_type": "code",
        "colab": {
          "base_uri": "https://localhost:8080/",
          "height": 34
        },
        "outputId": "49486d95-bee0-46d3-e71d-72eb9de85a39"
      },
      "source": [
        "# 코드를 입력하세요\n",
        "mylist[0]"
      ],
      "execution_count": 83,
      "outputs": [
        {
          "output_type": "execute_result",
          "data": {
            "text/plain": [
              "1"
            ]
          },
          "metadata": {
            "tags": []
          },
          "execution_count": 83
        }
      ]
    },
    {
      "cell_type": "code",
      "metadata": {
        "id": "bQQaTXemXDk-",
        "colab_type": "code",
        "colab": {
          "base_uri": "https://localhost:8080/",
          "height": 34
        },
        "outputId": "93226fe7-0352-46dc-b653-c30019bd522d"
      },
      "source": [
        "# 코드를 입력하세요\n",
        "mylist[3]"
      ],
      "execution_count": 84,
      "outputs": [
        {
          "output_type": "execute_result",
          "data": {
            "text/plain": [
              "4"
            ]
          },
          "metadata": {
            "tags": []
          },
          "execution_count": 84
        }
      ]
    },
    {
      "cell_type": "code",
      "metadata": {
        "id": "GtO0YS9HXDe7",
        "colab_type": "code",
        "colab": {
          "base_uri": "https://localhost:8080/",
          "height": 169
        },
        "outputId": "0dd64673-4fe1-49b6-93e2-bae499b2b9db"
      },
      "source": [
        "mylist[4]"
      ],
      "execution_count": 85,
      "outputs": [
        {
          "output_type": "error",
          "ename": "IndexError",
          "evalue": "ignored",
          "traceback": [
            "\u001b[0;31m---------------------------------------------------------------------------\u001b[0m",
            "\u001b[0;31mIndexError\u001b[0m                                Traceback (most recent call last)",
            "\u001b[0;32m<ipython-input-85-88b11041aa4f>\u001b[0m in \u001b[0;36m<module>\u001b[0;34m()\u001b[0m\n\u001b[0;32m----> 1\u001b[0;31m \u001b[0mmylist\u001b[0m\u001b[0;34m[\u001b[0m\u001b[0;36m4\u001b[0m\u001b[0;34m]\u001b[0m\u001b[0;34m\u001b[0m\u001b[0;34m\u001b[0m\u001b[0m\n\u001b[0m",
            "\u001b[0;31mIndexError\u001b[0m: list index out of range"
          ]
        }
      ]
    },
    {
      "cell_type": "code",
      "metadata": {
        "id": "dvsC2y9hXDYq",
        "colab_type": "code",
        "colab": {
          "base_uri": "https://localhost:8080/",
          "height": 169
        },
        "outputId": "00437785-d636-4c03-dc60-23c505d6930e"
      },
      "source": [
        "mylist[-5]"
      ],
      "execution_count": 86,
      "outputs": [
        {
          "output_type": "error",
          "ename": "IndexError",
          "evalue": "ignored",
          "traceback": [
            "\u001b[0;31m---------------------------------------------------------------------------\u001b[0m",
            "\u001b[0;31mIndexError\u001b[0m                                Traceback (most recent call last)",
            "\u001b[0;32m<ipython-input-86-7f152f66d2d3>\u001b[0m in \u001b[0;36m<module>\u001b[0;34m()\u001b[0m\n\u001b[0;32m----> 1\u001b[0;31m \u001b[0mmylist\u001b[0m\u001b[0;34m[\u001b[0m\u001b[0;34m-\u001b[0m\u001b[0;36m5\u001b[0m\u001b[0;34m]\u001b[0m\u001b[0;34m\u001b[0m\u001b[0;34m\u001b[0m\u001b[0m\n\u001b[0m",
            "\u001b[0;31mIndexError\u001b[0m: list index out of range"
          ]
        }
      ]
    },
    {
      "cell_type": "markdown",
      "metadata": {
        "id": "TZEqteGEXtJZ",
        "colab_type": "text"
      },
      "source": [
        "#### 인덱스로 접근하여 값 바꾸기"
      ]
    },
    {
      "cell_type": "code",
      "metadata": {
        "id": "WndBOK7DXwqk",
        "colab_type": "code",
        "colab": {
          "base_uri": "https://localhost:8080/",
          "height": 34
        },
        "outputId": "984bb043-cf42-42e0-953f-9eee5b8cf680"
      },
      "source": [
        "mylist"
      ],
      "execution_count": 87,
      "outputs": [
        {
          "output_type": "execute_result",
          "data": {
            "text/plain": [
              "[1, 2, 3, 4]"
            ]
          },
          "metadata": {
            "tags": []
          },
          "execution_count": 87
        }
      ]
    },
    {
      "cell_type": "code",
      "metadata": {
        "id": "qVZF6qydXyQa",
        "colab_type": "code",
        "colab": {
          "base_uri": "https://localhost:8080/",
          "height": 34
        },
        "outputId": "c8acd53c-ebe7-4470-fb0c-47dc52ba83fb"
      },
      "source": [
        "mylist[0]"
      ],
      "execution_count": 88,
      "outputs": [
        {
          "output_type": "execute_result",
          "data": {
            "text/plain": [
              "1"
            ]
          },
          "metadata": {
            "tags": []
          },
          "execution_count": 88
        }
      ]
    },
    {
      "cell_type": "code",
      "metadata": {
        "id": "0CUByTZgX1yF",
        "colab_type": "code",
        "colab": {}
      },
      "source": [
        "# 코드를 입력하세요\n",
        "mylist[0]=100"
      ],
      "execution_count": 89,
      "outputs": []
    },
    {
      "cell_type": "code",
      "metadata": {
        "id": "p841RzROX4C4",
        "colab_type": "code",
        "colab": {
          "base_uri": "https://localhost:8080/",
          "height": 34
        },
        "outputId": "aa2545cc-c4fc-4b72-b5bd-496617d450a4"
      },
      "source": [
        "mylist"
      ],
      "execution_count": 90,
      "outputs": [
        {
          "output_type": "execute_result",
          "data": {
            "text/plain": [
              "[100, 2, 3, 4]"
            ]
          },
          "metadata": {
            "tags": []
          },
          "execution_count": 90
        }
      ]
    },
    {
      "cell_type": "markdown",
      "metadata": {
        "id": "Fi8gFt_qXY5-",
        "colab_type": "text"
      },
      "source": [
        "#### 전체 길이 (사이즈) 알아내기"
      ]
    },
    {
      "cell_type": "code",
      "metadata": {
        "id": "-qvBVgmHXeea",
        "colab_type": "code",
        "colab": {
          "base_uri": "https://localhost:8080/",
          "height": 34
        },
        "outputId": "164ee109-6958-4dc0-b967-9a4c03b128b0"
      },
      "source": [
        "# 코드를 입력하세요\n",
        "len(mylist)"
      ],
      "execution_count": 92,
      "outputs": [
        {
          "output_type": "execute_result",
          "data": {
            "text/plain": [
              "4"
            ]
          },
          "metadata": {
            "tags": []
          },
          "execution_count": 92
        }
      ]
    },
    {
      "cell_type": "markdown",
      "metadata": {
        "id": "6f1LiPaaWA6a",
        "colab_type": "text"
      },
      "source": [
        "### 4-2. tuple (순서가 있는 집합, 읽기 전용)"
      ]
    },
    {
      "cell_type": "markdown",
      "metadata": {
        "id": "lGhnB5pMWK09",
        "colab_type": "text"
      },
      "source": [
        "() 로 표현합니다\n",
        "튜플값은 읽기 전용이라 값을 추가/삭제할 수 없음"
      ]
    },
    {
      "cell_type": "code",
      "metadata": {
        "id": "Lj0AaIGkWMng",
        "colab_type": "code",
        "colab": {}
      },
      "source": [
        "mytuple = (1, 2, 3, 4, 5)"
      ],
      "execution_count": 93,
      "outputs": []
    },
    {
      "cell_type": "code",
      "metadata": {
        "id": "D-MjMwtXWP1j",
        "colab_type": "code",
        "colab": {
          "base_uri": "https://localhost:8080/",
          "height": 169
        },
        "outputId": "c5fd95db-6592-40ab-ffa4-4e1c2d8f8624"
      },
      "source": [
        "mytuple.append(1)"
      ],
      "execution_count": 94,
      "outputs": [
        {
          "output_type": "error",
          "ename": "AttributeError",
          "evalue": "ignored",
          "traceback": [
            "\u001b[0;31m---------------------------------------------------------------------------\u001b[0m",
            "\u001b[0;31mAttributeError\u001b[0m                            Traceback (most recent call last)",
            "\u001b[0;32m<ipython-input-94-082a7ea72a51>\u001b[0m in \u001b[0;36m<module>\u001b[0;34m()\u001b[0m\n\u001b[0;32m----> 1\u001b[0;31m \u001b[0mmytuple\u001b[0m\u001b[0;34m.\u001b[0m\u001b[0mappend\u001b[0m\u001b[0;34m(\u001b[0m\u001b[0;36m1\u001b[0m\u001b[0;34m)\u001b[0m\u001b[0;34m\u001b[0m\u001b[0;34m\u001b[0m\u001b[0m\n\u001b[0m",
            "\u001b[0;31mAttributeError\u001b[0m: 'tuple' object has no attribute 'append'"
          ]
        }
      ]
    },
    {
      "cell_type": "code",
      "metadata": {
        "id": "_9qsv2Z6XlTi",
        "colab_type": "code",
        "colab": {
          "base_uri": "https://localhost:8080/",
          "height": 169
        },
        "outputId": "8fddaa2d-d033-4895-dd27-d6d5db03b568"
      },
      "source": [
        "mytuple.remove(1)"
      ],
      "execution_count": 95,
      "outputs": [
        {
          "output_type": "error",
          "ename": "AttributeError",
          "evalue": "ignored",
          "traceback": [
            "\u001b[0;31m---------------------------------------------------------------------------\u001b[0m",
            "\u001b[0;31mAttributeError\u001b[0m                            Traceback (most recent call last)",
            "\u001b[0;32m<ipython-input-95-05a40423345b>\u001b[0m in \u001b[0;36m<module>\u001b[0;34m()\u001b[0m\n\u001b[0;32m----> 1\u001b[0;31m \u001b[0mmytuple\u001b[0m\u001b[0;34m.\u001b[0m\u001b[0mremove\u001b[0m\u001b[0;34m(\u001b[0m\u001b[0;36m1\u001b[0m\u001b[0;34m)\u001b[0m\u001b[0;34m\u001b[0m\u001b[0;34m\u001b[0m\u001b[0m\n\u001b[0m",
            "\u001b[0;31mAttributeError\u001b[0m: 'tuple' object has no attribute 'remove'"
          ]
        }
      ]
    },
    {
      "cell_type": "code",
      "metadata": {
        "id": "FR2eRonUXoK2",
        "colab_type": "code",
        "colab": {
          "base_uri": "https://localhost:8080/",
          "height": 169
        },
        "outputId": "62872fa5-dd43-486e-df23-d8df9b16d89d"
      },
      "source": [
        "mytuple[0] = 1"
      ],
      "execution_count": null,
      "outputs": [
        {
          "output_type": "error",
          "ename": "TypeError",
          "evalue": "ignored",
          "traceback": [
            "\u001b[0;31m---------------------------------------------------------------------------\u001b[0m",
            "\u001b[0;31mTypeError\u001b[0m                                 Traceback (most recent call last)",
            "\u001b[0;32m<ipython-input-102-4cf492702bfd>\u001b[0m in \u001b[0;36m<module>\u001b[0;34m()\u001b[0m\n\u001b[0;32m----> 1\u001b[0;31m \u001b[0mmytuple\u001b[0m\u001b[0;34m[\u001b[0m\u001b[0;36m0\u001b[0m\u001b[0;34m]\u001b[0m \u001b[0;34m=\u001b[0m \u001b[0;36m1\u001b[0m\u001b[0;34m\u001b[0m\u001b[0;34m\u001b[0m\u001b[0m\n\u001b[0m",
            "\u001b[0;31mTypeError\u001b[0m: 'tuple' object does not support item assignment"
          ]
        }
      ]
    },
    {
      "cell_type": "markdown",
      "metadata": {
        "id": "PhwymGjaXqwU",
        "colab_type": "text"
      },
      "source": [
        "#### 길이 파악하기"
      ]
    },
    {
      "cell_type": "code",
      "metadata": {
        "id": "q52SzZNOYIo1",
        "colab_type": "code",
        "colab": {
          "base_uri": "https://localhost:8080/",
          "height": 34
        },
        "outputId": "678da407-2473-4df5-f6b0-78d806a28101"
      },
      "source": [
        "# 코드를 입력하세요\n",
        "len(mytuple)"
      ],
      "execution_count": 96,
      "outputs": [
        {
          "output_type": "execute_result",
          "data": {
            "text/plain": [
              "5"
            ]
          },
          "metadata": {
            "tags": []
          },
          "execution_count": 96
        }
      ]
    },
    {
      "cell_type": "code",
      "metadata": {
        "id": "58_4q0YKYJ3K",
        "colab_type": "code",
        "colab": {
          "base_uri": "https://localhost:8080/",
          "height": 34
        },
        "outputId": "f5823ff2-f9c9-46b8-8bbb-581c794e4ca9"
      },
      "source": [
        "mytuple"
      ],
      "execution_count": 97,
      "outputs": [
        {
          "output_type": "execute_result",
          "data": {
            "text/plain": [
              "(1, 2, 3, 4, 5)"
            ]
          },
          "metadata": {
            "tags": []
          },
          "execution_count": 97
        }
      ]
    },
    {
      "cell_type": "markdown",
      "metadata": {
        "id": "vCdKOsCpZNBi",
        "colab_type": "text"
      },
      "source": [
        "## set (순서 X, 중복 X)"
      ]
    },
    {
      "cell_type": "code",
      "metadata": {
        "id": "jIWM7VJjZMuH",
        "colab_type": "code",
        "colab": {}
      },
      "source": [
        "myset = set()"
      ],
      "execution_count": 98,
      "outputs": []
    },
    {
      "cell_type": "code",
      "metadata": {
        "id": "cBYyzorp0XoK",
        "colab_type": "code",
        "colab": {
          "base_uri": "https://localhost:8080/",
          "height": 34
        },
        "outputId": "1a4ef476-292e-407f-a8cb-2a7d71a50ff8"
      },
      "source": [
        "myset"
      ],
      "execution_count": 99,
      "outputs": [
        {
          "output_type": "execute_result",
          "data": {
            "text/plain": [
              "set()"
            ]
          },
          "metadata": {
            "tags": []
          },
          "execution_count": 99
        }
      ]
    },
    {
      "cell_type": "code",
      "metadata": {
        "id": "g7kOegmWZMXo",
        "colab_type": "code",
        "colab": {
          "base_uri": "https://localhost:8080/",
          "height": 34
        },
        "outputId": "82c701fe-b1ff-4e10-d597-976fe70fdf95"
      },
      "source": [
        "# 코드를 입력하세요\n",
        "type(myset)"
      ],
      "execution_count": 102,
      "outputs": [
        {
          "output_type": "execute_result",
          "data": {
            "text/plain": [
              "set"
            ]
          },
          "metadata": {
            "tags": []
          },
          "execution_count": 102
        }
      ]
    },
    {
      "cell_type": "code",
      "metadata": {
        "id": "9hiHrECzZUQH",
        "colab_type": "code",
        "colab": {}
      },
      "source": [
        "# 코드를 입력하세요\n",
        "myset.add(1)\n",
        "myset.add(2)\n",
        "myset.add(3)"
      ],
      "execution_count": 103,
      "outputs": []
    },
    {
      "cell_type": "code",
      "metadata": {
        "id": "QNQ7synrZUIf",
        "colab_type": "code",
        "colab": {
          "base_uri": "https://localhost:8080/",
          "height": 34
        },
        "outputId": "771c607e-98df-475b-dbe7-5e36b3f79e39"
      },
      "source": [
        "myset"
      ],
      "execution_count": 104,
      "outputs": [
        {
          "output_type": "execute_result",
          "data": {
            "text/plain": [
              "{1, 2, 3}"
            ]
          },
          "metadata": {
            "tags": []
          },
          "execution_count": 104
        }
      ]
    },
    {
      "cell_type": "code",
      "metadata": {
        "id": "7TXOT5PHZlG-",
        "colab_type": "code",
        "colab": {}
      },
      "source": [
        "myset.add(1)\n",
        "myset.add(2)\n",
        "myset.add(3)\n",
        "myset.add(1)\n",
        "myset.add(2)\n",
        "myset.add(3)"
      ],
      "execution_count": 105,
      "outputs": []
    },
    {
      "cell_type": "code",
      "metadata": {
        "id": "69kuRwVTZlAd",
        "colab_type": "code",
        "colab": {
          "base_uri": "https://localhost:8080/",
          "height": 34
        },
        "outputId": "added076-c5c5-44ae-d933-ad295f356441"
      },
      "source": [
        "myset"
      ],
      "execution_count": 106,
      "outputs": [
        {
          "output_type": "execute_result",
          "data": {
            "text/plain": [
              "{1, 2, 3}"
            ]
          },
          "metadata": {
            "tags": []
          },
          "execution_count": 106
        }
      ]
    },
    {
      "cell_type": "code",
      "metadata": {
        "id": "o7WiOXmMZu0r",
        "colab_type": "code",
        "colab": {}
      },
      "source": [
        "# 코드를 입력하세요\n",
        "myset.add(4)"
      ],
      "execution_count": 107,
      "outputs": []
    },
    {
      "cell_type": "code",
      "metadata": {
        "id": "ovA1nLoa0suO",
        "colab_type": "code",
        "colab": {
          "base_uri": "https://localhost:8080/",
          "height": 34
        },
        "outputId": "52eb353b-1dd4-4b58-cb82-428d33f751b7"
      },
      "source": [
        "myset"
      ],
      "execution_count": 108,
      "outputs": [
        {
          "output_type": "execute_result",
          "data": {
            "text/plain": [
              "{1, 2, 3, 4}"
            ]
          },
          "metadata": {
            "tags": []
          },
          "execution_count": 108
        }
      ]
    },
    {
      "cell_type": "markdown",
      "metadata": {
        "id": "57vgLEysYLus",
        "colab_type": "text"
      },
      "source": [
        "### 4-3. dict (사전형 집합, key와 value 쌍)"
      ]
    },
    {
      "cell_type": "markdown",
      "metadata": {
        "id": "Y1nD5M8IYUh2",
        "colab_type": "text"
      },
      "source": [
        "{}로 표현합니다"
      ]
    },
    {
      "cell_type": "code",
      "metadata": {
        "id": "R3WbGCJSa-n_",
        "colab_type": "code",
        "colab": {}
      },
      "source": [
        "mydict = dict()"
      ],
      "execution_count": 109,
      "outputs": []
    },
    {
      "cell_type": "code",
      "metadata": {
        "id": "ihPXvBAZ0-v2",
        "colab_type": "code",
        "colab": {
          "base_uri": "https://localhost:8080/",
          "height": 34
        },
        "outputId": "7bc62d3f-4e14-49ed-d261-8f712efe56b0"
      },
      "source": [
        "mydict"
      ],
      "execution_count": 110,
      "outputs": [
        {
          "output_type": "execute_result",
          "data": {
            "text/plain": [
              "{}"
            ]
          },
          "metadata": {
            "tags": []
          },
          "execution_count": 110
        }
      ]
    },
    {
      "cell_type": "code",
      "metadata": {
        "id": "cUcgXj1aa_Xj",
        "colab_type": "code",
        "colab": {
          "base_uri": "https://localhost:8080/",
          "height": 34
        },
        "outputId": "4c646c62-41be-4f2e-9898-406661811eb7"
      },
      "source": [
        "# 코드를 입력하세요\n",
        "type(mydict)"
      ],
      "execution_count": 111,
      "outputs": [
        {
          "output_type": "execute_result",
          "data": {
            "text/plain": [
              "dict"
            ]
          },
          "metadata": {
            "tags": []
          },
          "execution_count": 111
        }
      ]
    },
    {
      "cell_type": "markdown",
      "metadata": {
        "id": "aciJNcbDZ9mc",
        "colab_type": "text"
      },
      "source": [
        "#### 값을 추가하기"
      ]
    },
    {
      "cell_type": "code",
      "metadata": {
        "id": "D-SAZCUHYWuc",
        "colab_type": "code",
        "colab": {}
      },
      "source": [
        "mydict = dict()"
      ],
      "execution_count": 112,
      "outputs": []
    },
    {
      "cell_type": "code",
      "metadata": {
        "id": "PfON-IIcYZ_e",
        "colab_type": "code",
        "colab": {}
      },
      "source": [
        "# 코드를 입력하세요\n",
        "mydict['apple']=123"
      ],
      "execution_count": 113,
      "outputs": []
    },
    {
      "cell_type": "code",
      "metadata": {
        "id": "qj2OiMKaYlVO",
        "colab_type": "code",
        "colab": {
          "base_uri": "https://localhost:8080/",
          "height": 34
        },
        "outputId": "fd30d16f-5f2c-4c2a-ef94-c599ddf5127b"
      },
      "source": [
        "mydict['apple']"
      ],
      "execution_count": 114,
      "outputs": [
        {
          "output_type": "execute_result",
          "data": {
            "text/plain": [
              "123"
            ]
          },
          "metadata": {
            "tags": []
          },
          "execution_count": 114
        }
      ]
    },
    {
      "cell_type": "code",
      "metadata": {
        "id": "W47eMGTdYfhM",
        "colab_type": "code",
        "colab": {}
      },
      "source": [
        "# 코드를 입력하세요\n",
        "mydict[0]=2"
      ],
      "execution_count": 115,
      "outputs": []
    },
    {
      "cell_type": "code",
      "metadata": {
        "id": "BuCJWnwFYhV2",
        "colab_type": "code",
        "colab": {
          "base_uri": "https://localhost:8080/",
          "height": 34
        },
        "outputId": "bf4213bf-b4eb-4166-e1c8-e0a14addb2b7"
      },
      "source": [
        "mydict[0]"
      ],
      "execution_count": 116,
      "outputs": [
        {
          "output_type": "execute_result",
          "data": {
            "text/plain": [
              "2"
            ]
          },
          "metadata": {
            "tags": []
          },
          "execution_count": 116
        }
      ]
    },
    {
      "cell_type": "markdown",
      "metadata": {
        "id": "c2pY_ZcmaNV1",
        "colab_type": "text"
      },
      "source": [
        "mydict의 키는 **문자형** / **숫자형**이 혼용 가능합니다"
      ]
    },
    {
      "cell_type": "code",
      "metadata": {
        "id": "KGR-kooHYisN",
        "colab_type": "code",
        "colab": {
          "base_uri": "https://localhost:8080/",
          "height": 34
        },
        "outputId": "ea2e9ec0-88bc-457e-9ecf-fdd0088eedc3"
      },
      "source": [
        "mydict"
      ],
      "execution_count": 117,
      "outputs": [
        {
          "output_type": "execute_result",
          "data": {
            "text/plain": [
              "{0: 2, 'apple': 123}"
            ]
          },
          "metadata": {
            "tags": []
          },
          "execution_count": 117
        }
      ]
    },
    {
      "cell_type": "markdown",
      "metadata": {
        "id": "VtHeeb0lacre",
        "colab_type": "text"
      },
      "source": [
        "float(실수)도 키로써 입력이 가능합니다."
      ]
    },
    {
      "cell_type": "code",
      "metadata": {
        "id": "920R7Ni7aWi7",
        "colab_type": "code",
        "colab": {}
      },
      "source": [
        "# 코드를 입력하세요\n",
        "mydict[3.14]=1"
      ],
      "execution_count": 118,
      "outputs": []
    },
    {
      "cell_type": "code",
      "metadata": {
        "id": "_lsLGLKCaaoe",
        "colab_type": "code",
        "colab": {
          "base_uri": "https://localhost:8080/",
          "height": 34
        },
        "outputId": "74928d50-84b4-4ab8-acb9-7b58f10e53f1"
      },
      "source": [
        "mydict"
      ],
      "execution_count": 119,
      "outputs": [
        {
          "output_type": "execute_result",
          "data": {
            "text/plain": [
              "{0: 2, 3.14: 1, 'apple': 123}"
            ]
          },
          "metadata": {
            "tags": []
          },
          "execution_count": 119
        }
      ]
    },
    {
      "cell_type": "markdown",
      "metadata": {
        "id": "fJvfGTfDYy8V",
        "colab_type": "text"
      },
      "source": [
        "#### 값을 바꾸기"
      ]
    },
    {
      "cell_type": "code",
      "metadata": {
        "id": "6Ho7ZevOYpXW",
        "colab_type": "code",
        "colab": {}
      },
      "source": [
        "# 코드를 입력하세요\n",
        "mydict['apple']='byebye'"
      ],
      "execution_count": 120,
      "outputs": []
    },
    {
      "cell_type": "code",
      "metadata": {
        "id": "oG9LcfG4Ywlw",
        "colab_type": "code",
        "colab": {
          "base_uri": "https://localhost:8080/",
          "height": 34
        },
        "outputId": "f4c039b5-1b9b-458b-e858-6ab8df76b78e"
      },
      "source": [
        "mydict"
      ],
      "execution_count": 121,
      "outputs": [
        {
          "output_type": "execute_result",
          "data": {
            "text/plain": [
              "{0: 2, 3.14: 1, 'apple': 'byebye'}"
            ]
          },
          "metadata": {
            "tags": []
          },
          "execution_count": 121
        }
      ]
    },
    {
      "cell_type": "markdown",
      "metadata": {
        "id": "0SEF7gLRY_Ik",
        "colab_type": "text"
      },
      "source": [
        "#### 길이 파악하기"
      ]
    },
    {
      "cell_type": "code",
      "metadata": {
        "id": "YCAsgXFTZCmh",
        "colab_type": "code",
        "colab": {
          "base_uri": "https://localhost:8080/",
          "height": 34
        },
        "outputId": "757cf74d-c60e-4a98-817d-717e28f3a1a7"
      },
      "source": [
        "len(mydict)"
      ],
      "execution_count": 122,
      "outputs": [
        {
          "output_type": "execute_result",
          "data": {
            "text/plain": [
              "3"
            ]
          },
          "metadata": {
            "tags": []
          },
          "execution_count": 122
        }
      ]
    }
  ]
}