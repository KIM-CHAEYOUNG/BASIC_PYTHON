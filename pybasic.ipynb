{
 "cells": [
  {
   "cell_type": "markdown",
   "metadata": {},
   "source": [
    "### 파이썬 기초\n",
    "* 기억장소\n",
    "    - 변수\n",
    "* 연산자\n",
    "    - 산술 연산\n",
    "    - 논리 연산\n",
    "    - 비교 연산\n",
    "* 구문\n",
    "    - 비교문\n",
    "    - 반복문\n",
    "* 함수\n",
    "* 클래스\n",
    "\n",
    "### 프로그램이 하는 일\n",
    "1. 기억장소에 데이터를 넣는다 (입력)\n",
    "2. 기억장소에 데이터를 (수정/조작)한다\n",
    "3. 기억장소의 데이터를 (판단)한다 \n",
    "4. 기억장소의 데이터를 출력(표현)한다.\n",
    "5. 반복 업무를 대행한다."
   ]
  },
  {
   "cell_type": "markdown",
   "metadata": {},
   "source": [
    "# 기억장소만들기 : 변수생성\n",
    "* 변수 명명 규칙\n",
    "    - 알파뉴메릭(A~Za~z1~9_)으로 작성\n",
    "    - 시작은 반드시 영문자와 _ / 숫자 불가\n",
    "    - 띄어쓰기를 할 수 없다.\n",
    "    "
   ]
  },
  {
   "cell_type": "markdown",
   "metadata": {},
   "source": [
    "# 변수특징\n",
    "* 타입 형 지정이 없음\n",
    "* 객체형 변수형태"
   ]
  },
  {
   "cell_type": "code",
   "execution_count": 3,
   "metadata": {},
   "outputs": [
    {
     "name": "stdout",
     "output_type": "stream",
     "text": [
      "a1 type: <class 'int'>\n"
     ]
    }
   ],
   "source": [
    "a1=0\n",
    "print(\"a1 type:\",type(a1))"
   ]
  },
  {
   "cell_type": "code",
   "execution_count": 4,
   "metadata": {},
   "outputs": [
    {
     "name": "stdout",
     "output_type": "stream",
     "text": [
      "a1 type: <class 'str'>\n"
     ]
    }
   ],
   "source": [
    "a1='0'\n",
    "print(\"a1 type:\",type(a1))"
   ]
  },
  {
   "cell_type": "markdown",
   "metadata": {},
   "source": [
    "### 데이터 형\n",
    "* 단순형\n",
    "    * int\n",
    "    * float\n",
    "    *str\n",
    "* 배열형\n",
    "    * 리스트 []: ar[] #index, a=[] #리스트 앞에 문자 없음\n",
    "    * 튜플 () : ar() #함수 a=() #튜플\n",
    "    * 딕셔너리 {} : {key : value} #{} 내부에 키 벨류 값으로 존재"
   ]
  },
  {
   "cell_type": "code",
   "execution_count": 15,
   "metadata": {},
   "outputs": [
    {
     "name": "stdout",
     "output_type": "stream",
     "text": [
      "[1, 2, 3.2, '4', [5.1, 6.2]] <class 'list'>\n",
      "ar의 2번째 요소 2\n",
      "ar의 2번째 요소 2번째 요소\n",
      "0 번째 요소: 1\n",
      "1 번째 요소: 2번째 요소\n",
      "2 번째 요소: 3.2\n",
      "3 번째 요소: 4\n",
      "4 번째 요소: [5.1, 6.2]\n"
     ]
    }
   ],
   "source": [
    "# 리스트형 []\n",
    "ar=[1,2,3.2, '4', [5.1,6.2]]\n",
    "print(ar, type(ar))\n",
    "print('ar의 2번째 요소', ar[1])\n",
    "ar[1]='2번째 요소'\n",
    "print('ar의 2번째 요소', ar[1])\n",
    "#요소별 출력\n",
    "i=0\n",
    "for a in ar:\n",
    "    print(i, '번째 요소:',a)\n",
    "    i+=1"
   ]
  },
  {
   "cell_type": "code",
   "execution_count": 16,
   "metadata": {},
   "outputs": [
    {
     "name": "stdout",
     "output_type": "stream",
     "text": [
      "(1, 2, 3.2, '4', [5.1, 6.2]) <class 'tuple'>\n",
      "tr의 2번째 요소 2\n",
      "0 번째 요소: 1\n",
      "1 번째 요소: 2\n",
      "2 번째 요소: 3.2\n",
      "3 번째 요소: 4\n",
      "4 번째 요소: [5.1, 6.2]\n"
     ]
    }
   ],
   "source": [
    "# 튜플형 ()\n",
    "tr=(1,2,3.2, '4', [5.1,6.2])\n",
    "print(tr, type(tr))\n",
    "print('tr의 2번째 요소', tr[1])\n",
    "#tr[1]='2번째 요소' # 튜플은 요소 수정 불가! # 데이터 오염 방지\n",
    "#print('tr의 2번째 요소', tr[1])\n",
    "#요소별 출력\n",
    "i=0\n",
    "for a in tr:\n",
    "    print(i, '번째 요소:',a)\n",
    "    i+=1"
   ]
  },
  {
   "cell_type": "code",
   "execution_count": 19,
   "metadata": {},
   "outputs": [
    {
     "name": "stdout",
     "output_type": "stream",
     "text": [
      "{1: 2, 2: 3.2, '3': [5.1, 6.2]} <class 'dict'>\n",
      "dr의 인덱스1인 요소(인덱스는 키값) 2\n",
      "dr의 인덱스\"3\" [5.1, 6.2]\n",
      "{1: '2번째 요소', 2: 3.2, '3': [5.1, 6.2]}\n",
      "0 번째 요소: 1 => 2번째 요소\n",
      "1 번째 요소: 2 => 3.2\n",
      "2 번째 요소: 3 => [5.1, 6.2]\n"
     ]
    }
   ],
   "source": [
    "# 딕셔너리 {}\n",
    "dr={1:2,2:3.2, '3': [5.1,6.2]}\n",
    "print(dr, type(dr))\n",
    "print('dr의 인덱스1인 요소(인덱스는 키값)', dr[1])\n",
    "dr[1]='2번째 요소'\n",
    "print('dr의 인덱스\"3\"', dr['3'])\n",
    "print(dr)\n",
    "#요소별 출력\n",
    "i=0\n",
    "for a in dr:\n",
    "    print(i, '번째 요소:',a, \"=>\", dr[a])\n",
    "    i+=1"
   ]
  },
  {
   "cell_type": "markdown",
   "metadata": {},
   "source": [
    "#### * ML과 DL을 하기 위한 최소 요소\n",
    "#### * 파이썬이 ML/DL을 다루기엔 가장 쉽다"
   ]
  },
  {
   "cell_type": "markdown",
   "metadata": {},
   "source": [
    "### 연산자\n",
    "- 산술연산(6) : + - * / % //\n",
    "- 비교연산(6): > < >= <= == !="
   ]
  },
  {
   "cell_type": "code",
   "execution_count": 20,
   "metadata": {},
   "outputs": [
    {
     "name": "stdout",
     "output_type": "stream",
     "text": [
      "몫연산자: 1.6666666666666667\n",
      "나머지연산자: 2\n"
     ]
    }
   ],
   "source": [
    "a1=5\n",
    "b1=3\n",
    "print(\"몫연산자:\", a1/b1)\n",
    "print(\"나머지연산자:\", a1%b1)"
   ]
  },
  {
   "cell_type": "code",
   "execution_count": 21,
   "metadata": {},
   "outputs": [
    {
     "name": "stdout",
     "output_type": "stream",
     "text": [
      "True\n"
     ]
    }
   ],
   "source": [
    "print(a1>b1)"
   ]
  },
  {
   "cell_type": "markdown",
   "metadata": {},
   "source": [
    "### 판단문 if\n",
    "- if(조건식):\n",
    "    참일 때 실행\n",
    "    else:\n",
    "    거짓일 때 실행"
   ]
  },
  {
   "cell_type": "code",
   "execution_count": 22,
   "metadata": {},
   "outputs": [
    {
     "name": "stdout",
     "output_type": "stream",
     "text": [
      "5 은 3 보다 큽니다.\n"
     ]
    }
   ],
   "source": [
    "if (a1>b1):\n",
    "    print(a1,\"은\", b1, \"보다 큽니다.\")\n",
    "else:\n",
    "    print(a1,\"은\", b1, \"보다 크지 않습니다.\")"
   ]
  },
  {
   "cell_type": "markdown",
   "metadata": {},
   "source": [
    "### 반복문 for\n",
    "for 요소 in 배열:\n",
    "\n",
    "\n",
    "### 반복문 while -> 무한루프에 조심\n",
    "while(조건식):\n",
    "    조건이 참인 경우 실행"
   ]
  },
  {
   "cell_type": "markdown",
   "metadata": {},
   "source": [
    "### 이스케이프 문자열\n",
    "    * \\t: 탭\n",
    "    *\\n : 한줄내리기\n",
    "    *\\\\: 역슬래쉬 표시"
   ]
  },
  {
   "cell_type": "code",
   "execution_count": 23,
   "metadata": {},
   "outputs": [
    {
     "name": "stdout",
     "output_type": "stream",
     "text": [
      "안녕하세요\t 여러분 \n",
      " 반갑습니다.\\ \\\n"
     ]
    }
   ],
   "source": [
    "print(\"안녕하세요\\t 여러분 \\n 반갑습니다.\\\\ \\\\\")"
   ]
  },
  {
   "cell_type": "code",
   "execution_count": null,
   "metadata": {},
   "outputs": [],
   "source": [
    "### 99단 표 만들기\n",
    "* 3으로 나누어지는 수옆에 *표시\n",
    "* 4로 나누어지는 수 옆에 _ 표시"
   ]
  },
  {
   "cell_type": "code",
   "execution_count": 41,
   "metadata": {},
   "outputs": [
    {
     "name": "stdout",
     "output_type": "stream",
     "text": [
      "\n",
      "\n",
      "1\t2\t3\t4\t5\t6\t7\t8\t9\t\n",
      "\n",
      "2\t4\t6\t8\t10\t12\t14\t16\t18\t\n",
      "\n",
      "3\t6\t9\t12\t15\t18\t21\t24\t27\t\n",
      "\n",
      "4\t8\t12\t16\t20\t24\t28\t32\t36\t\n",
      "\n",
      "5\t10\t15\t20\t25\t30\t35\t40\t45\t\n",
      "\n",
      "6\t12\t18\t24\t30\t36\t42\t48\t54\t\n",
      "\n",
      "7\t14\t21\t28\t35\t42\t49\t56\t63\t\n",
      "\n",
      "8\t16\t24\t32\t40\t48\t56\t64\t72\t\n",
      "\n",
      "9\t18\t27\t36\t45\t54\t63\t72\t81\t"
     ]
    }
   ],
   "source": [
    "for i in range(1, 10):\n",
    "    print('\\n')\n",
    "    for j in range(1, 10):\n",
    "        print(i*j, end='\\t')"
   ]
  },
  {
   "cell_type": "code",
   "execution_count": 46,
   "metadata": {},
   "outputs": [
    {
     "name": "stdout",
     "output_type": "stream",
     "text": [
      "\n",
      "\n",
      "1\t2\t3 *\t4 _\t5\t6 *\t7\t8 _\t9 *\t\n",
      "\n",
      "2\t4 _\t6 *\t8 _\t10\t12 *\t14\t16 _\t18 *\t\n",
      "\n",
      "3 *\t6 *\t9 *\t12 *\t15 *\t18 *\t21 *\t24 *\t27 *\t\n",
      "\n",
      "4 _\t8 _\t12 *\t16 _\t20 _\t24 *\t28 _\t32 _\t36 *\t\n",
      "\n",
      "5\t10\t15 *\t20 _\t25\t30 *\t35\t40 _\t45 *\t\n",
      "\n",
      "6 *\t12 *\t18 *\t24 *\t30 *\t36 *\t42 *\t48 *\t54 *\t\n",
      "\n",
      "7\t14\t21 *\t28 _\t35\t42 *\t49\t56 _\t63 *\t\n",
      "\n",
      "8 _\t16 _\t24 *\t32 _\t40 _\t48 *\t56 _\t64 _\t72 *\t\n",
      "\n",
      "9 *\t18 *\t27 *\t36 *\t45 *\t54 *\t63 *\t72 *\t81 *\t"
     ]
    }
   ],
   "source": [
    "for i in range(1, 10):\n",
    "    print('\\n')\n",
    "    for j in range(1, 10):\n",
    "        c=i*j\n",
    "        if c%3==0:\n",
    "            print(c,'*', end='\\t')\n",
    "        elif c%4==0:\n",
    "            print(c,'_',end='\\t')\n",
    "        else:\n",
    "            print(c, end='\\t')"
   ]
  },
  {
   "cell_type": "code",
   "execution_count": null,
   "metadata": {},
   "outputs": [],
   "source": []
  }
 ],
 "metadata": {
  "kernelspec": {
   "display_name": "Python 3",
   "language": "python",
   "name": "python3"
  },
  "language_info": {
   "codemirror_mode": {
    "name": "ipython",
    "version": 3
   },
   "file_extension": ".py",
   "mimetype": "text/x-python",
   "name": "python",
   "nbconvert_exporter": "python",
   "pygments_lexer": "ipython3",
   "version": "3.8.3"
  }
 },
 "nbformat": 4,
 "nbformat_minor": 4
}
